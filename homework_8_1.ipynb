{
  "nbformat": 4,
  "nbformat_minor": 0,
  "metadata": {
    "colab": {
      "name": "homework_8_1.ipynb",
      "provenance": [],
      "collapsed_sections": []
    },
    "kernelspec": {
      "name": "python3",
      "display_name": "Python 3"
    },
    "language_info": {
      "name": "python"
    }
  },
  "cells": [
    {
      "cell_type": "markdown",
      "source": [
        "1. (30%) Apply 𝑘-means and hierarchical clustering to the ORL face dataset. Set 𝑘 = 2 in 𝑘-means and select 2 clusters in hierarchical clustering. Do the clustering results match the two genders?"
      ],
      "metadata": {
        "id": "KF3pkMJ7-EbD"
      }
    },
    {
      "cell_type": "code",
      "execution_count": 1,
      "metadata": {
        "id": "eimD33Rn3E1P"
      },
      "outputs": [],
      "source": [
        "from PIL import Image\n",
        "import numpy as np\n",
        "from numpy import array\n",
        "from tkinter import _flatten\n",
        "import math\n",
        "import matplotlib.pyplot as plt\n",
        "import os\n"
      ]
    },
    {
      "cell_type": "code",
      "source": [
        "import numpy\n",
        "\n",
        "# 1 - 0, 2 - 1, 3 - 1, 4 - 1, 5 - 1, 6 - 1, 7 - 1, 8 - 0, 9 - 1, 10 - 0, 11 - 1, 12 - 0, 13 - 1, 14 - 1, 15 - 1\n",
        "# 16 - 1, 17 - 1, 18 - 1, 19 - 1, 20 - 1, 21 - 1, 22 - 1, 23 - 1, 24 - 1, 25 - 1, 26 - 1, 27 - 1, 28 - 1, 29 - 1, 30 - 1\n",
        "# 31 - 1, 32 - 0, 33 - 1, 34 - 1, 35 - 1, 36 - 1, 37 - 1, 38 - 1, 39 - 1, 40 - 1  \n",
        "gender = [0, 1, 1, 1, 1, 1, 1, 0, 1, 0,1, 0, 1,1,1,1,1,1,1,1,1,1,1,1,1,1,1,1,1,1,1,0,1,1,1,1,1,1,1,1]\n",
        "len(gender)\n",
        "\n",
        "final = []\n",
        "for i in gender:\n",
        "  if i == 0:\n",
        "    for j in range(0,10):\n",
        "      final.append(0)\n",
        "    #new_list = [0,0,0,0,0,0,0,0,0,0]\n",
        "  else:\n",
        "    for j in range(0,10):\n",
        "      final.append(1)\n",
        "\n",
        "\n",
        "gender = final\n",
        "\n"
      ],
      "metadata": {
        "id": "ulb6A6zx9-6t"
      },
      "execution_count": 2,
      "outputs": []
    },
    {
      "cell_type": "code",
      "source": [
        "from PIL import Image\n",
        "\n",
        "\n",
        "def load_images_from_folder(folder):\n",
        "  i = 1\n",
        "  for filename in os.listdir(folder):\n",
        "    im = Image.open(os.path.join(folder,filename))\n",
        "    data = np.array(im)\n",
        "    flattened = data.flatten()\n",
        "    reshape_fla = np.expand_dims(flattened, axis=0)\n",
        "    if i == 1:\n",
        "      final = reshape_fla\n",
        "      i = 2\n",
        "    else:\n",
        "      final = np.vstack((final,reshape_fla))\n",
        "\n",
        "  return final\n",
        "\n",
        "\n",
        "pixels = load_images_from_folder('/content/drive/MyDrive/Colab Notebooks/homework_8/faces')\n",
        "\n",
        "pixels.shape\n",
        "\n",
        "X = pixels"
      ],
      "metadata": {
        "id": "Vv1Bpk23-CGG"
      },
      "execution_count": 3,
      "outputs": []
    },
    {
      "cell_type": "markdown",
      "source": [
        "# **K-means**"
      ],
      "metadata": {
        "id": "Q2cxSLkVCR5y"
      }
    },
    {
      "cell_type": "code",
      "source": [
        "from sklearn.cluster import KMeans\n",
        "import numpy as np\n",
        "kmeans = KMeans(n_clusters=2, random_state=0).fit(X)\n",
        "print((kmeans.labels_))\n",
        "\n",
        "\n"
      ],
      "metadata": {
        "colab": {
          "base_uri": "https://localhost:8080/",
          "height": 0
        },
        "id": "srmdHI9RCSUr",
        "outputId": "7a600575-b952-4752-82a6-9a2dad577831"
      },
      "execution_count": 4,
      "outputs": [
        {
          "output_type": "stream",
          "name": "stdout",
          "text": [
            "[1 0 0 0 1 0 1 1 1 1 0 0 1 1 1 0 0 1 1 0 0 1 1 0 1 1 1 0 1 0 1 0 1 1 0 1 0\n",
            " 0 1 0 1 1 1 1 0 0 1 1 1 0 0 1 0 0 1 1 0 0 1 1 0 1 0 1 0 1 1 0 1 1 0 1 1 0\n",
            " 1 0 0 0 0 1 1 0 1 0 1 1 1 0 0 1 0 1 1 1 1 1 0 1 1 1 1 1 1 0 1 1 1 0 0 1 0\n",
            " 1 1 1 0 0 0 0 1 1 1 1 0 1 1 1 1 0 0 1 0 0 1 0 0 1 1 0 1 0 1 1 1 0 0 1 1 1\n",
            " 1 0 0 0 1 1 0 0 1 1 1 1 0 0 1 0 0 1 1 1 0 0 0 1 0 0 0 1 1 1 0 1 0 0 0 1 0\n",
            " 1 1 0 1 0 1 0 0 0 1 0 1 0 0 1 1 1 0 1 0 0 1 1 0 1 1 1 0 1 0 1 0 0 0 1 0 0\n",
            " 1 0 0 1 0 0 1 1 0 1 0 1 1 0 0 0 1 1 0 0 0 0 1 1 1 1 0 1 0 1 0 0 1 1 0 1 0\n",
            " 0 0 1 0 0 0 1 1 0 1 1 0 0 0 1 1 0 0 0 0 1 0 0 1 0 0 0 0 0 1 1 1 0 1 1 0 0\n",
            " 0 1 1 0 1 1 0 0 0 1 1 1 0 1 1 0 0 1 0 0 0 1 1 1 1 1 1 1 0 0 1 1 0 1 0 0 0\n",
            " 1 0 0 0 0 1 1 0 1 1 1 0 0 1 1 1 1 1 1 1 1 1 0 1 1 1 0 1 0 1 0 1 0 1 0 1 1\n",
            " 1 1 1 0 1 0 0 0 1 1 1 1 1 1 1 1 1 0 0 1 0 1 1 1 0 0 1 1 0 1]\n"
          ]
        }
      ]
    },
    {
      "cell_type": "markdown",
      "source": [
        "Find **the best** accuracy by comparing the values predicted with the original ones for K-Means"
      ],
      "metadata": {
        "id": "ZwB6SXyzuzUs"
      }
    },
    {
      "cell_type": "code",
      "source": [
        "count_kmeans = 0\n",
        "for i, j in zip(kmeans.labels_, gender):\n",
        "  if i == j:\n",
        "    count_kmeans = count_kmeans + 1\n",
        "\n",
        "print(count_kmeans)\n",
        "\n",
        "accurancy_kmeans = (count_kmeans * 100) / len(gender)\n",
        "print(accurancy_kmeans)"
      ],
      "metadata": {
        "colab": {
          "base_uri": "https://localhost:8080/",
          "height": 0
        },
        "id": "E9UJABsy5Ej0",
        "outputId": "3dfd22b8-1eae-409c-c83d-ef770f858ab5"
      },
      "execution_count": 5,
      "outputs": [
        {
          "output_type": "stream",
          "name": "stdout",
          "text": [
            "212\n",
            "53.0\n"
          ]
        }
      ]
    },
    {
      "cell_type": "markdown",
      "source": [
        "Checking if I get the same accuracy by the Confusion Matrix and also finding the best Confusion Matrix for K-Means\n"
      ],
      "metadata": {
        "id": "w5z5CtvFu_h6"
      }
    },
    {
      "cell_type": "code",
      "source": [
        "from sklearn.metrics import confusion_matrix\n",
        "\n",
        "cm_kmeans = confusion_matrix(gender, (kmeans.labels_))\n",
        "\n",
        "acc_cm_kmeans = np.trace(cm_kmeans) / np.sum(cm_kmeans)\n",
        "print(acc_cm_kmeans)"
      ],
      "metadata": {
        "colab": {
          "base_uri": "https://localhost:8080/",
          "height": 0
        },
        "id": "QEuhLAFRppV9",
        "outputId": "e422b331-d69b-473a-e70b-a221e8cf3704"
      },
      "execution_count": 6,
      "outputs": [
        {
          "output_type": "stream",
          "name": "stdout",
          "text": [
            "0.53\n"
          ]
        }
      ]
    },
    {
      "cell_type": "code",
      "source": [
        "import seaborn as sns; sns.set()\n",
        "\n",
        "ax = sns.heatmap(cm_kmeans, annot=True, fmt=\"d\", cmap=\"Blues\")"
      ],
      "metadata": {
        "colab": {
          "base_uri": "https://localhost:8080/",
          "height": 268
        },
        "id": "Tf1wAoJwptgE",
        "outputId": "ad90d79a-3c4a-4d3b-f1c3-21ad17506381"
      },
      "execution_count": 7,
      "outputs": [
        {
          "output_type": "display_data",
          "data": {
            "text/plain": [
              "<Figure size 432x288 with 2 Axes>"
            ],
            "image/png": "[encoded data removed]"
          },
          "metadata": {}
        }
      ]
    },
    {
      "cell_type": "code",
      "source": [
        "!pip install scikit-learn==0.22.2"
      ],
      "metadata": {
        "colab": {
          "base_uri": "https://localhost:8080/",
          "height": 393
        },
        "id": "goty21oFpvGp",
        "outputId": "dde8bf86-1fcd-416b-8c94-77e73c3c5702"
      },
      "execution_count": 8,
      "outputs": [
        {
          "output_type": "stream",
          "name": "stdout",
          "text": [
            "Collecting scikit-learn==0.22.2\n",
            "  Downloading scikit_learn-0.22.2-cp37-cp37m-manylinux1_x86_64.whl (7.1 MB)\n",
            "\u001b[K     |████████████████████████████████| 7.1 MB 4.3 MB/s \n",
            "\u001b[?25hRequirement already satisfied: joblib>=0.11 in /usr/local/lib/python3.7/dist-packages (from scikit-learn==0.22.2) (1.1.0)\n",
            "Requirement already satisfied: numpy>=1.11.0 in /usr/local/lib/python3.7/dist-packages (from scikit-learn==0.22.2) (1.21.6)\n",
            "Requirement already satisfied: scipy>=0.17.0 in /usr/local/lib/python3.7/dist-packages (from scikit-learn==0.22.2) (1.4.1)\n",
            "Installing collected packages: scikit-learn\n",
            "  Attempting uninstall: scikit-learn\n",
            "    Found existing installation: scikit-learn 1.0.2\n",
            "    Uninstalling scikit-learn-1.0.2:\n",
            "      Successfully uninstalled scikit-learn-1.0.2\n",
            "\u001b[31mERROR: pip's dependency resolver does not currently take into account all the packages that are installed. This behaviour is the source of the following dependency conflicts.\n",
            "yellowbrick 1.4 requires scikit-learn>=1.0.0, but you have scikit-learn 0.22.2 which is incompatible.\n",
            "imbalanced-learn 0.8.1 requires scikit-learn>=0.24, but you have scikit-learn 0.22.2 which is incompatible.\u001b[0m\n",
            "Successfully installed scikit-learn-0.22.2\n"
          ]
        },
        {
          "output_type": "display_data",
          "data": {
            "application/vnd.colab-display-data+json": {
              "pip_warning": {
                "packages": [
                  "sklearn"
                ]
              }
            }
          },
          "metadata": {}
        }
      ]
    },
    {
      "cell_type": "code",
      "source": [
        "from sklearn.utils.linear_assignment_ import linear_assignment\n",
        "import numpy as np\n",
        "\n",
        "def _make_cost_m(cm):\n",
        "    s = np.max(cm)\n",
        "    return (- cm + s)\n",
        "\n",
        "indexes = linear_assignment(_make_cost_m(cm_kmeans))\n",
        "js = [e[1] for e in sorted(indexes, key=lambda x: x[0])]\n",
        "cm2_kmeans = cm_kmeans[:, js]\n",
        "\n",
        "ax = sns.heatmap(cm2_kmeans, annot=True, fmt=\"d\", cmap=\"Blues\")"
      ],
      "metadata": {
        "colab": {
          "base_uri": "https://localhost:8080/",
          "height": 359
        },
        "id": "dqYTeo5epwck",
        "outputId": "da20fa47-dbb4-4e58-986b-069cbeae119e"
      },
      "execution_count": 9,
      "outputs": [
        {
          "output_type": "stream",
          "name": "stderr",
          "text": [
            "/usr/local/lib/python3.7/dist-packages/sklearn/utils/linear_assignment_.py:22: FutureWarning: The linear_assignment_ module is deprecated in 0.21 and will be removed from 0.23. Use scipy.optimize.linear_sum_assignment instead.\n",
            "  FutureWarning)\n",
            "/usr/local/lib/python3.7/dist-packages/sklearn/utils/linear_assignment_.py:128: FutureWarning: The linear_assignment function is deprecated in 0.21 and will be removed from 0.23. Use scipy.optimize.linear_sum_assignment instead.\n",
            "  FutureWarning)\n"
          ]
        },
        {
          "output_type": "display_data",
          "data": {
            "text/plain": [
              "<Figure size 432x288 with 2 Axes>"
            ],
            "image/png": "[encoded data removed]"
          },
          "metadata": {}
        }
      ]
    },
    {
      "cell_type": "markdown",
      "source": [
        "Both accuracies are the same! Max ACC for K-Means"
      ],
      "metadata": {
        "id": "Fd2S9FmfvQI9"
      }
    },
    {
      "cell_type": "code",
      "source": [
        "max_acc_kmeans = np.trace(cm2_kmeans) / np.sum(cm2_kmeans)\n",
        "print(\"Max acc using K-Means:\", 100* max_acc_kmeans,\"%\") "
      ],
      "metadata": {
        "colab": {
          "base_uri": "https://localhost:8080/",
          "height": 0
        },
        "id": "TaKN35wbpydh",
        "outputId": "5128886d-fbcb-4145-8f92-38cb26da1e18"
      },
      "execution_count": 10,
      "outputs": [
        {
          "output_type": "stream",
          "name": "stdout",
          "text": [
            "Max acc using K-Means: 53.0 %\n"
          ]
        }
      ]
    },
    {
      "cell_type": "markdown",
      "source": [
        "# **Hierarchical Clustering**"
      ],
      "metadata": {
        "id": "Jpgpekq6EfTt"
      }
    },
    {
      "cell_type": "code",
      "source": [
        "from sklearn.cluster import AgglomerativeClustering\n",
        "\n",
        "cluster = AgglomerativeClustering(n_clusters=2, affinity='euclidean', linkage='ward')\n",
        "cluster.fit_predict(X)\n",
        "print(cluster.labels_)\n"
      ],
      "metadata": {
        "colab": {
          "base_uri": "https://localhost:8080/",
          "height": 0
        },
        "id": "_KPO293mE01O",
        "outputId": "67b55ad4-6b84-49ac-e672-893bacb57743"
      },
      "execution_count": 11,
      "outputs": [
        {
          "output_type": "stream",
          "name": "stdout",
          "text": [
            "[1 0 0 0 1 0 1 1 1 1 0 0 1 1 1 0 0 1 0 0 0 1 1 0 1 0 1 0 1 0 1 0 1 1 1 1 0\n",
            " 0 1 0 1 1 1 1 0 0 1 1 1 0 0 1 0 1 1 1 1 0 1 1 0 1 0 1 0 0 1 0 1 1 1 1 0 0\n",
            " 0 0 0 0 0 0 1 0 1 0 0 1 1 0 0 1 0 1 1 1 1 1 0 0 1 1 1 1 1 0 0 1 1 0 0 1 0\n",
            " 1 1 1 0 0 0 0 0 1 1 1 0 1 1 1 1 0 0 1 0 0 1 0 0 0 1 0 1 0 1 1 1 0 0 1 1 1\n",
            " 1 0 0 0 1 1 0 0 1 1 1 1 0 0 1 0 0 1 1 1 0 1 0 1 0 0 0 1 1 1 0 0 0 0 0 1 0\n",
            " 1 1 0 1 0 0 0 0 0 1 0 1 0 0 1 1 1 0 1 0 0 1 1 0 1 1 1 0 1 0 1 0 0 0 0 0 0\n",
            " 1 0 0 1 0 0 1 1 0 1 0 1 1 0 0 0 1 1 1 0 0 0 1 1 1 1 0 0 0 1 0 0 1 1 0 1 0\n",
            " 0 0 1 0 0 0 1 1 0 0 1 0 0 0 1 1 0 0 0 0 0 0 0 1 0 0 1 0 0 1 1 1 0 1 0 0 0\n",
            " 0 1 1 0 1 1 0 0 0 1 1 1 0 1 1 0 0 1 0 0 0 1 1 1 1 1 1 1 0 0 1 0 0 1 1 0 0\n",
            " 1 0 0 0 1 1 1 0 1 1 1 0 0 1 1 1 1 1 1 1 1 1 0 1 1 1 0 1 0 1 0 1 0 1 0 1 1\n",
            " 1 1 0 0 0 0 1 0 1 1 1 0 1 1 1 1 1 0 0 1 0 1 1 1 0 0 1 0 0 1]\n"
          ]
        }
      ]
    },
    {
      "cell_type": "markdown",
      "source": [
        "Find **the best** accuracy by comparing the values predicted with the original ones for Hierarchical Clustering"
      ],
      "metadata": {
        "id": "M00-fE7vvuYl"
      }
    },
    {
      "cell_type": "code",
      "source": [
        "count_cluster = 0\n",
        "for i, j in zip(cluster.labels_, gender):\n",
        "  if i == j:\n",
        "    count_cluster = count_cluster + 1\n",
        "\n",
        "print(count_cluster)\n",
        "\n",
        "accurancy_cluster = (count_cluster * 100) / len(gender)\n",
        "print(accurancy_cluster)"
      ],
      "metadata": {
        "colab": {
          "base_uri": "https://localhost:8080/",
          "height": 0
        },
        "id": "7NQ3Plp17Elh",
        "outputId": "52af80a6-f504-4c65-e08b-b5ab18eedd7e"
      },
      "execution_count": 12,
      "outputs": [
        {
          "output_type": "stream",
          "name": "stdout",
          "text": [
            "207\n",
            "51.75\n"
          ]
        }
      ]
    },
    {
      "cell_type": "markdown",
      "source": [
        "Checking if I get the same accuracy by the Confusion Matrix and also finding the best Confusion Matrix for Hierarchical Clustering"
      ],
      "metadata": {
        "id": "OCfLr2W_v3fg"
      }
    },
    {
      "cell_type": "code",
      "source": [
        "cm_hierar = confusion_matrix(gender, (cluster.labels_))\n",
        "\n",
        "acc_cm_hierar = np.trace(cm_hierar) / np.sum(cm_hierar)\n",
        "print(acc_cm_hierar)\n",
        "\n",
        "ax = sns.heatmap(cm_hierar, annot=True, fmt=\"d\", cmap=\"Blues\")"
      ],
      "metadata": {
        "colab": {
          "base_uri": "https://localhost:8080/",
          "height": 288
        },
        "id": "r1AAfay8q04J",
        "outputId": "f13cecb6-8255-469d-8b0e-6e82b761659b"
      },
      "execution_count": 13,
      "outputs": [
        {
          "output_type": "stream",
          "name": "stdout",
          "text": [
            "0.5175\n"
          ]
        },
        {
          "output_type": "display_data",
          "data": {
            "text/plain": [
              "<Figure size 432x288 with 2 Axes>"
            ],
            "image/png": "[encoded data removed]"
          },
          "metadata": {}
        }
      ]
    },
    {
      "cell_type": "code",
      "source": [
        "indexes = linear_assignment(_make_cost_m(cm_hierar))\n",
        "js = [e[1] for e in sorted(indexes, key=lambda x: x[0])]\n",
        "cm2_hierar = cm_hierar[:, js]\n",
        "\n",
        "ax = sns.heatmap(cm2_hierar, annot=True, fmt=\"d\", cmap=\"Blues\")"
      ],
      "metadata": {
        "colab": {
          "base_uri": "https://localhost:8080/",
          "height": 325
        },
        "id": "8IiQiMC6q4R5",
        "outputId": "edfad364-ae69-46a5-fd41-66d56ad5dd72"
      },
      "execution_count": 14,
      "outputs": [
        {
          "output_type": "stream",
          "name": "stderr",
          "text": [
            "/usr/local/lib/python3.7/dist-packages/sklearn/utils/linear_assignment_.py:128: FutureWarning: The linear_assignment function is deprecated in 0.21 and will be removed from 0.23. Use scipy.optimize.linear_sum_assignment instead.\n",
            "  FutureWarning)\n"
          ]
        },
        {
          "output_type": "display_data",
          "data": {
            "text/plain": [
              "<Figure size 432x288 with 2 Axes>"
            ],
            "image/png": "[encoded data removed]"
          },
          "metadata": {}
        }
      ]
    },
    {
      "cell_type": "markdown",
      "source": [
        "Both accuracies are the same! Max ACC for K Means Hierarchical Clustering"
      ],
      "metadata": {
        "id": "20sHLIaVwDJL"
      }
    },
    {
      "cell_type": "code",
      "source": [
        "max_acc_hierar_ = np.trace(cm2_hierar) / np.sum(cm2_hierar)\n",
        "print(\"Max acc using Hierarchical clustering:\", 100* max_acc_hierar_,\"%\") "
      ],
      "metadata": {
        "colab": {
          "base_uri": "https://localhost:8080/",
          "height": 0
        },
        "id": "-lv7gSWfrx3M",
        "outputId": "f40934c4-a0f8-41ce-d7ba-fbc1bb4b6b5f"
      },
      "execution_count": 15,
      "outputs": [
        {
          "output_type": "stream",
          "name": "stdout",
          "text": [
            "Max acc using Hierarchical clustering: 51.74999999999999 %\n"
          ]
        }
      ]
    },
    {
      "cell_type": "markdown",
      "source": [
        "Conclusion:\n",
        "\n",
        "Both algorithms had the worst predictions comparting to the Supervisory Learning ones implemented last homework. One of the reasons is that they don't have access to the output, and it's hard to cluster between two groups when one possible work has so fewer data compared to the other one. \n",
        "\n",
        "It seems that unsupervised learning suffered less bias for this application since it didn't have access to the labels."
      ],
      "metadata": {
        "id": "cdmPWZ_ncbt9"
      }
    }
  ]
}