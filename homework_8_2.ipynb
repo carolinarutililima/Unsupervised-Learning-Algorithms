{
  "nbformat": 4,
  "nbformat_minor": 0,
  "metadata": {
    "colab": {
      "name": "homework_8_2.ipynb",
      "provenance": [],
      "collapsed_sections": []
    },
    "kernelspec": {
      "name": "python3",
      "display_name": "Python 3"
    },
    "language_info": {
      "name": "python"
    }
  },
  "cells": [
    {
      "cell_type": "markdown",
      "source": [
        "2. (60%) Drop the “origin” variable from AutoMPG and apply 𝑘-means, hierarchical clustering, and DBSCAN to the modified AutoMPG. Do the clustering results match the origin? Compare and discuss the results with those from the supervised learning methods done in HW#07-EX3."
      ],
      "metadata": {
        "id": "2fl4pRrWGpDg"
      }
    },
    {
      "cell_type": "code",
      "source": [
        "import numpy as np\n",
        "import pandas as pd\n",
        "import matplotlib.pyplot as plt\n"
      ],
      "metadata": {
        "id": "IeqE3q20HSLU"
      },
      "execution_count": null,
      "outputs": []
    },
    {
      "cell_type": "code",
      "source": [
        "df = pd.read_csv('/content/drive/MyDrive/Colab Notebooks/homework_8/auto-mpg.csv', sep=\";\", header=None, names=['Mpg', 'Cylinders', 'Displacement' ,'Horsepower', 'Weight', 'Acceleration', 'Model year', 'Origin', 'Car name'])\n",
        "\n",
        "\n",
        "df.head()"
      ],
      "metadata": {
        "colab": {
          "base_uri": "https://localhost:8080/",
          "height": 206
        },
        "id": "55qY3tPrHV2s",
        "outputId": "1182f37c-dca8-4889-ee40-5fe51c4c61c6"
      },
      "execution_count": null,
      "outputs": [
        {
          "output_type": "execute_result",
          "data": {
            "text/plain": [
              "    Mpg  Cylinders  Displacement  Horsepower  Weight  Acceleration  \\\n",
              "0  18.0          8         307.0         130    3504          12.0   \n",
              "1  15.0          8         350.0         165    3693          11.5   \n",
              "2  18.0          8         318.0         150    3436          11.0   \n",
              "3  16.0          8         304.0         150    3433          12.0   \n",
              "4  17.0          8         302.0         140    3449          10.5   \n",
              "\n",
              "   Model year  Origin                   Car name  \n",
              "0          70       1  chevrolet chevelle malibu  \n",
              "1          70       1          buick skylark 320  \n",
              "2          70       1         plymouth satellite  \n",
              "3          70       1              amc rebel sst  \n",
              "4          70       1                ford torino  "
            ],
            "text/html": [
              "\n",
              "  <div id=\"df-28eac142-e168-404f-ba4c-1826e1f5116d\">\n",
              "    <div class=\"colab-df-container\">\n",
              "      <div>\n",
              "<style scoped>\n",
              "    .dataframe tbody tr th:only-of-type {\n",
              "        vertical-align: middle;\n",
              "    }\n",
              "\n",
              "    .dataframe tbody tr th {\n",
              "        vertical-align: top;\n",
              "    }\n",
              "\n",
              "    .dataframe thead th {\n",
              "        text-align: right;\n",
              "    }\n",
              "</style>\n",
              "<table border=\"1\" class=\"dataframe\">\n",
              "  <thead>\n",
              "    <tr style=\"text-align: right;\">\n",
              "      <th></th>\n",
              "      <th>Mpg</th>\n",
              "      <th>Cylinders</th>\n",
              "      <th>Displacement</th>\n",
              "      <th>Horsepower</th>\n",
              "      <th>Weight</th>\n",
              "      <th>Acceleration</th>\n",
              "      <th>Model year</th>\n",
              "      <th>Origin</th>\n",
              "      <th>Car name</th>\n",
              "    </tr>\n",
              "  </thead>\n",
              "  <tbody>\n",
              "    <tr>\n",
              "      <th>0</th>\n",
              "      <td>18.0</td>\n",
              "      <td>8</td>\n",
              "      <td>307.0</td>\n",
              "      <td>130</td>\n",
              "      <td>3504</td>\n",
              "      <td>12.0</td>\n",
              "      <td>70</td>\n",
              "      <td>1</td>\n",
              "      <td>chevrolet chevelle malibu</td>\n",
              "    </tr>\n",
              "    <tr>\n",
              "      <th>1</th>\n",
              "      <td>15.0</td>\n",
              "      <td>8</td>\n",
              "      <td>350.0</td>\n",
              "      <td>165</td>\n",
              "      <td>3693</td>\n",
              "      <td>11.5</td>\n",
              "      <td>70</td>\n",
              "      <td>1</td>\n",
              "      <td>buick skylark 320</td>\n",
              "    </tr>\n",
              "    <tr>\n",
              "      <th>2</th>\n",
              "      <td>18.0</td>\n",
              "      <td>8</td>\n",
              "      <td>318.0</td>\n",
              "      <td>150</td>\n",
              "      <td>3436</td>\n",
              "      <td>11.0</td>\n",
              "      <td>70</td>\n",
              "      <td>1</td>\n",
              "      <td>plymouth satellite</td>\n",
              "    </tr>\n",
              "    <tr>\n",
              "      <th>3</th>\n",
              "      <td>16.0</td>\n",
              "      <td>8</td>\n",
              "      <td>304.0</td>\n",
              "      <td>150</td>\n",
              "      <td>3433</td>\n",
              "      <td>12.0</td>\n",
              "      <td>70</td>\n",
              "      <td>1</td>\n",
              "      <td>amc rebel sst</td>\n",
              "    </tr>\n",
              "    <tr>\n",
              "      <th>4</th>\n",
              "      <td>17.0</td>\n",
              "      <td>8</td>\n",
              "      <td>302.0</td>\n",
              "      <td>140</td>\n",
              "      <td>3449</td>\n",
              "      <td>10.5</td>\n",
              "      <td>70</td>\n",
              "      <td>1</td>\n",
              "      <td>ford torino</td>\n",
              "    </tr>\n",
              "  </tbody>\n",
              "</table>\n",
              "</div>\n",
              "      <button class=\"colab-df-convert\" onclick=\"convertToInteractive('df-28eac142-e168-404f-ba4c-1826e1f5116d')\"\n",
              "              title=\"Convert this dataframe to an interactive table.\"\n",
              "              style=\"display:none;\">\n",
              "        \n",
              "  <svg xmlns=\"http://www.w3.org/2000/svg\" height=\"24px\"viewBox=\"0 0 24 24\"\n",
              "       width=\"24px\">\n",
              "    <path d=\"M0 0h24v24H0V0z\" fill=\"none\"/>\n",
              "    <path d=\"M18.56 5.44l.94 2.06.94-2.06 2.06-.94-2.06-.94-.94-2.06-.94 2.06-2.06.94zm-11 1L8.5 8.5l.94-2.06 2.06-.94-2.06-.94L8.5 2.5l-.94 2.06-2.06.94zm10 10l.94 2.06.94-2.06 2.06-.94-2.06-.94-.94-2.06-.94 2.06-2.06.94z\"/><path d=\"M17.41 7.96l-1.37-1.37c-.4-.4-.92-.59-1.43-.59-.52 0-1.04.2-1.43.59L10.3 9.45l-7.72 7.72c-.78.78-.78 2.05 0 2.83L4 21.41c.39.39.9.59 1.41.59.51 0 1.02-.2 1.41-.59l7.78-7.78 2.81-2.81c.8-.78.8-2.07 0-2.86zM5.41 20L4 18.59l7.72-7.72 1.47 1.35L5.41 20z\"/>\n",
              "  </svg>\n",
              "      </button>\n",
              "      \n",
              "  <style>\n",
              "    .colab-df-container {\n",
              "      display:flex;\n",
              "      flex-wrap:wrap;\n",
              "      gap: 12px;\n",
              "    }\n",
              "\n",
              "    .colab-df-convert {\n",
              "      background-color: #E8F0FE;\n",
              "      border: none;\n",
              "      border-radius: 50%;\n",
              "      cursor: pointer;\n",
              "      display: none;\n",
              "      fill: #1967D2;\n",
              "      height: 32px;\n",
              "      padding: 0 0 0 0;\n",
              "      width: 32px;\n",
              "    }\n",
              "\n",
              "    .colab-df-convert:hover {\n",
              "      background-color: #E2EBFA;\n",
              "      box-shadow: 0px 1px 2px rgba(60, 64, 67, 0.3), 0px 1px 3px 1px rgba(60, 64, 67, 0.15);\n",
              "      fill: #174EA6;\n",
              "    }\n",
              "\n",
              "    [theme=dark] .colab-df-convert {\n",
              "      background-color: #3B4455;\n",
              "      fill: #D2E3FC;\n",
              "    }\n",
              "\n",
              "    [theme=dark] .colab-df-convert:hover {\n",
              "      background-color: #434B5C;\n",
              "      box-shadow: 0px 1px 3px 1px rgba(0, 0, 0, 0.15);\n",
              "      filter: drop-shadow(0px 1px 2px rgba(0, 0, 0, 0.3));\n",
              "      fill: #FFFFFF;\n",
              "    }\n",
              "  </style>\n",
              "\n",
              "      <script>\n",
              "        const buttonEl =\n",
              "          document.querySelector('#df-28eac142-e168-404f-ba4c-1826e1f5116d button.colab-df-convert');\n",
              "        buttonEl.style.display =\n",
              "          google.colab.kernel.accessAllowed ? 'block' : 'none';\n",
              "\n",
              "        async function convertToInteractive(key) {\n",
              "          const element = document.querySelector('#df-28eac142-e168-404f-ba4c-1826e1f5116d');\n",
              "          const dataTable =\n",
              "            await google.colab.kernel.invokeFunction('convertToInteractive',\n",
              "                                                     [key], {});\n",
              "          if (!dataTable) return;\n",
              "\n",
              "          const docLinkHtml = 'Like what you see? Visit the ' +\n",
              "            '<a target=\"_blank\" href=https://colab.research.google.com/notebooks/data_table.ipynb>data table notebook</a>'\n",
              "            + ' to learn more about interactive tables.';\n",
              "          element.innerHTML = '';\n",
              "          dataTable['output_type'] = 'display_data';\n",
              "          await google.colab.output.renderOutput(dataTable, element);\n",
              "          const docLink = document.createElement('div');\n",
              "          docLink.innerHTML = docLinkHtml;\n",
              "          element.appendChild(docLink);\n",
              "        }\n",
              "      </script>\n",
              "    </div>\n",
              "  </div>\n",
              "  "
            ]
          },
          "metadata": {},
          "execution_count": 8
        }
      ]
    },
    {
      "cell_type": "code",
      "source": [
        "# X and y\n",
        "X = df [['Cylinders', 'Displacement' ,'Horsepower', 'Weight', 'Acceleration', 'Model year', 'Mpg']]\n",
        "y = df[['Origin']]\n",
        "\n",
        "\n"
      ],
      "metadata": {
        "id": "uB8eA-6gH87y"
      },
      "execution_count": null,
      "outputs": []
    },
    {
      "cell_type": "code",
      "source": [
        "from collections import Counter\n",
        "count_y = Counter(y['Origin'])\n",
        "print(count_y)"
      ],
      "metadata": {
        "colab": {
          "base_uri": "https://localhost:8080/"
        },
        "id": "hH2jaBVJZlq8",
        "outputId": "918f1697-ccc5-42a2-c0f9-8d83b97e9d74"
      },
      "execution_count": null,
      "outputs": [
        {
          "output_type": "stream",
          "name": "stdout",
          "text": [
            "Counter({1: 245, 3: 79, 2: 68})\n"
          ]
        }
      ]
    },
    {
      "cell_type": "code",
      "source": [
        "list_y = []\n",
        "y_val = []\n",
        "for i in y['Origin']:\n",
        "  y_val.append(i-1)\n",
        "for i in y_val:\n",
        "  if i in list_y:\n",
        "    pass\n",
        "  else:\n",
        "    list_y.append(i)\n",
        "\n",
        "list_y.sort()\n",
        "print(list_y)\n",
        "n_var = len(list_y)\n",
        "print(len(y_val))\n"
      ],
      "metadata": {
        "colab": {
          "base_uri": "https://localhost:8080/"
        },
        "id": "4X1yTwRyLmzO",
        "outputId": "364fd349-40c5-4098-cc0b-160ba0b889c5"
      },
      "execution_count": null,
      "outputs": [
        {
          "output_type": "stream",
          "name": "stdout",
          "text": [
            "[0, 1, 2]\n",
            "392\n"
          ]
        }
      ]
    },
    {
      "cell_type": "markdown",
      "source": [
        "Standardize features by removing the mean and scaling to unit variance.\n"
      ],
      "metadata": {
        "id": "dNd1RLrHg8nr"
      }
    },
    {
      "cell_type": "code",
      "execution_count": null,
      "metadata": {
        "id": "ie7t4CCnk4BS"
      },
      "outputs": [],
      "source": [
        "from sklearn.preprocessing import StandardScaler \n",
        "\n",
        "\n",
        "sc = StandardScaler()\n",
        "sc.fit(X)\n",
        "X = sc.transform(X)\n"
      ]
    },
    {
      "cell_type": "markdown",
      "source": [
        "# **K-means**"
      ],
      "metadata": {
        "id": "EjBlOeA3H5f0"
      }
    },
    {
      "cell_type": "code",
      "source": [
        "from sklearn.cluster import KMeans\n",
        "import numpy as np\n",
        "kmeans = KMeans(n_clusters=n_var, random_state=0).fit(X)\n",
        "print((kmeans.labels_))\n"
      ],
      "metadata": {
        "colab": {
          "base_uri": "https://localhost:8080/"
        },
        "id": "EacSqfOnH9Jy",
        "outputId": "610ffd0c-3247-4066-dfe5-80479728bb69"
      },
      "execution_count": null,
      "outputs": [
        {
          "output_type": "stream",
          "name": "stdout",
          "text": [
            "[2 2 2 2 2 2 2 2 2 2 2 2 2 2 0 1 1 1 0 0 0 0 0 0 1 2 2 2 2 0 0 0 1 1 1 1 1\n",
            " 2 2 2 2 2 2 2 1 0 1 1 0 0 0 0 0 0 0 0 0 0 0 0 0 2 2 2 2 2 2 2 2 2 0 2 2 2\n",
            " 2 1 0 0 0 0 0 0 0 0 2 2 2 2 2 2 2 2 2 2 2 2 1 1 1 1 1 0 2 2 2 2 1 0 0 0 0\n",
            " 0 1 0 2 2 0 0 0 1 2 0 1 2 1 1 1 0 0 0 0 1 1 1 2 2 2 2 2 0 0 0 0 0 0 0 0 0\n",
            " 0 0 1 1 1 1 2 2 2 2 1 1 1 1 1 1 2 0 0 1 0 0 0 0 1 0 1 0 0 0 0 0 0 0 0 0 0\n",
            " 2 2 2 2 1 1 1 1 0 0 0 0 1 1 1 1 0 0 0 0 1 2 1 1 1 2 2 2 2 0 0 0 0 0 2 1 2\n",
            " 2 1 1 1 1 2 2 2 2 0 0 0 0 0 0 0 0 1 0 0 0 0 0 0 0 1 2 2 1 1 1 0 1 1 1 1 1\n",
            " 1 2 1 2 2 0 0 0 0 0 0 0 0 1 1 0 1 0 0 1 1 0 1 1 1 2 2 2 2 2 1 2 0 0 0 0 1\n",
            " 1 0 1 0 0 0 0 0 1 1 0 0 0 0 0 0 0 0 1 0 0 0 0 0 0 0 0 0 0 0 0 0 0 0 1 0 0\n",
            " 0 0 0 0 1 0 0 0 0 0 0 0 0 0 0 0 0 0 0 0 0 0 0 1 1 1 1 1 1 0 0 0 0 0 0 0 0\n",
            " 0 0 0 0 0 0 0 0 0 0 1 0 0 1 0 0 0 0 0 0 0 0]\n"
          ]
        }
      ]
    },
    {
      "cell_type": "markdown",
      "source": [
        "Find the accuracy for K-Means"
      ],
      "metadata": {
        "id": "DN478EZatc5V"
      }
    },
    {
      "cell_type": "code",
      "source": [
        "from sklearn.metrics import confusion_matrix\n",
        "\n",
        "cm_kmeans = confusion_matrix(y_val, (kmeans.labels_))\n",
        "\n",
        "acc_cm_kmeans = np.trace(cm_kmeans) / np.sum(cm_kmeans)\n",
        "print(acc_cm_kmeans)"
      ],
      "metadata": {
        "colab": {
          "base_uri": "https://localhost:8080/"
        },
        "id": "uTodmLMM5NUJ",
        "outputId": "c57f17a9-5e5d-4553-e6ec-1fc599e63fe0"
      },
      "execution_count": null,
      "outputs": [
        {
          "output_type": "stream",
          "name": "stdout",
          "text": [
            "0.20153061224489796\n"
          ]
        }
      ]
    },
    {
      "cell_type": "code",
      "source": [
        "import seaborn as sns; sns.set()\n",
        "\n",
        "ax = sns.heatmap(cm_kmeans, annot=True, fmt=\"d\", cmap=\"Blues\")"
      ],
      "metadata": {
        "colab": {
          "base_uri": "https://localhost:8080/",
          "height": 268
        },
        "id": "jbqYCX5r5iqu",
        "outputId": "8d191c34-02fc-468d-f5a1-6f23ab9fb762"
      },
      "execution_count": null,
      "outputs": [
        {
          "output_type": "display_data",
          "data": {
            "text/plain": [
              "<Figure size 432x288 with 2 Axes>"
            ],
            "image/png": "[encoded data removed]"
          },
          "metadata": {}
        }
      ]
    },
    {
      "cell_type": "code",
      "source": [
        "!pip install scikit-learn==0.22.2"
      ],
      "metadata": {
        "colab": {
          "base_uri": "https://localhost:8080/",
          "height": 393
        },
        "id": "fLv6i6M5Q48L",
        "outputId": "d221bbd2-a57b-4c9b-bd02-e38ec57124a2"
      },
      "execution_count": null,
      "outputs": [
        {
          "output_type": "stream",
          "name": "stdout",
          "text": [
            "Collecting scikit-learn==0.22.2\n",
            "  Downloading scikit_learn-0.22.2-cp37-cp37m-manylinux1_x86_64.whl (7.1 MB)\n",
            "\u001b[K     |████████████████████████████████| 7.1 MB 4.7 MB/s \n",
            "\u001b[?25hRequirement already satisfied: scipy>=0.17.0 in /usr/local/lib/python3.7/dist-packages (from scikit-learn==0.22.2) (1.4.1)\n",
            "Requirement already satisfied: joblib>=0.11 in /usr/local/lib/python3.7/dist-packages (from scikit-learn==0.22.2) (1.1.0)\n",
            "Requirement already satisfied: numpy>=1.11.0 in /usr/local/lib/python3.7/dist-packages (from scikit-learn==0.22.2) (1.21.6)\n",
            "Installing collected packages: scikit-learn\n",
            "  Attempting uninstall: scikit-learn\n",
            "    Found existing installation: scikit-learn 1.0.2\n",
            "    Uninstalling scikit-learn-1.0.2:\n",
            "      Successfully uninstalled scikit-learn-1.0.2\n",
            "\u001b[31mERROR: pip's dependency resolver does not currently take into account all the packages that are installed. This behaviour is the source of the following dependency conflicts.\n",
            "yellowbrick 1.4 requires scikit-learn>=1.0.0, but you have scikit-learn 0.22.2 which is incompatible.\n",
            "imbalanced-learn 0.8.1 requires scikit-learn>=0.24, but you have scikit-learn 0.22.2 which is incompatible.\u001b[0m\n",
            "Successfully installed scikit-learn-0.22.2\n"
          ]
        },
        {
          "output_type": "display_data",
          "data": {
            "application/vnd.colab-display-data+json": {
              "pip_warning": {
                "packages": [
                  "sklearn"
                ]
              }
            }
          },
          "metadata": {}
        }
      ]
    },
    {
      "cell_type": "markdown",
      "source": [
        "Find **the best** accuracy for K Meas"
      ],
      "metadata": {
        "id": "gdrraHvVtjea"
      }
    },
    {
      "cell_type": "code",
      "source": [
        "from sklearn.utils.linear_assignment_ import linear_assignment\n",
        "import numpy as np\n",
        "\n",
        "def _make_cost_m(cm):\n",
        "    s = np.max(cm)\n",
        "    return (- cm + s)\n",
        "\n",
        "indexes = linear_assignment(_make_cost_m(cm_kmeans))\n",
        "js = [e[1] for e in sorted(indexes, key=lambda x: x[0])]\n",
        "cm2_kmeans = cm_kmeans[:, js]\n",
        "\n",
        "ax = sns.heatmap(cm2_kmeans, annot=True, fmt=\"d\", cmap=\"Blues\")"
      ],
      "metadata": {
        "colab": {
          "base_uri": "https://localhost:8080/",
          "height": 359
        },
        "id": "B-_cL9grQ270",
        "outputId": "246dd789-bd22-4b32-ad7a-7dfd1d170958"
      },
      "execution_count": null,
      "outputs": [
        {
          "output_type": "stream",
          "name": "stderr",
          "text": [
            "/usr/local/lib/python3.7/dist-packages/sklearn/utils/linear_assignment_.py:22: FutureWarning: The linear_assignment_ module is deprecated in 0.21 and will be removed from 0.23. Use scipy.optimize.linear_sum_assignment instead.\n",
            "  FutureWarning)\n",
            "/usr/local/lib/python3.7/dist-packages/sklearn/utils/linear_assignment_.py:128: FutureWarning: The linear_assignment function is deprecated in 0.21 and will be removed from 0.23. Use scipy.optimize.linear_sum_assignment instead.\n",
            "  FutureWarning)\n"
          ]
        },
        {
          "output_type": "display_data",
          "data": {
            "text/plain": [
              "<Figure size 432x288 with 2 Axes>"
            ],
            "image/png": "[encoded data removed]"
          },
          "metadata": {}
        }
      ]
    },
    {
      "cell_type": "code",
      "source": [
        "max_acc_kmeans = np.trace(cm2_kmeans) / np.sum(cm2_kmeans)\n",
        "print(\"Max acc using K Means:\", 100* max_acc_kmeans,\"%\") "
      ],
      "metadata": {
        "colab": {
          "base_uri": "https://localhost:8080/"
        },
        "id": "wKXunv2MRJwg",
        "outputId": "fd7bed9f-beba-4230-8dcc-36dbd74b70f0"
      },
      "execution_count": null,
      "outputs": [
        {
          "output_type": "stream",
          "name": "stdout",
          "text": [
            "Max acc using K Means: 45.1530612244898 %\n"
          ]
        }
      ]
    },
    {
      "cell_type": "markdown",
      "source": [
        "# **Hierarchical clustering**"
      ],
      "metadata": {
        "id": "Nmm4bycnG0_0"
      }
    },
    {
      "cell_type": "code",
      "source": [
        "from sklearn.cluster import AgglomerativeClustering\n",
        "\n",
        "cluster = AgglomerativeClustering(n_clusters=n_var, affinity='euclidean', linkage='ward')\n",
        "cluster.fit_predict(X)\n",
        "print(cluster.labels_)\n"
      ],
      "metadata": {
        "colab": {
          "base_uri": "https://localhost:8080/"
        },
        "id": "J0FM7jslPTP6",
        "outputId": "a922859e-1411-427d-9920-d5171f66ebff"
      },
      "execution_count": null,
      "outputs": [
        {
          "output_type": "stream",
          "name": "stdout",
          "text": [
            "[1 1 1 1 1 1 1 1 1 1 1 1 1 1 0 2 2 2 0 0 0 0 0 0 2 1 1 1 1 0 0 0 2 2 2 2 2\n",
            " 1 1 1 1 1 1 1 2 0 2 2 0 0 0 0 0 0 0 0 0 0 0 0 0 1 1 1 1 1 1 1 1 1 0 1 1 1\n",
            " 1 0 0 0 0 0 0 0 0 0 1 1 1 1 1 1 1 1 1 1 1 1 2 2 2 2 2 0 1 1 1 1 2 0 0 0 0\n",
            " 0 2 0 1 1 0 0 0 0 1 0 2 1 2 2 2 0 0 0 0 2 2 2 1 1 1 1 1 0 0 0 0 0 0 0 0 0\n",
            " 0 0 2 2 2 2 1 1 1 1 2 2 2 2 2 1 1 0 0 2 0 0 0 0 2 0 2 0 0 0 0 0 0 0 0 0 0\n",
            " 1 1 1 1 2 2 2 2 0 0 0 0 2 2 2 2 0 0 0 0 0 1 0 2 2 1 1 1 1 0 0 0 0 0 1 2 1\n",
            " 1 2 2 2 2 1 1 1 1 0 0 0 0 0 0 0 0 2 0 0 0 0 0 0 0 1 1 1 2 2 2 0 2 2 2 2 2\n",
            " 2 1 2 1 1 0 0 0 0 0 0 0 0 0 2 0 2 0 0 2 2 0 2 2 1 1 1 1 1 1 1 1 0 0 0 0 0\n",
            " 2 0 2 0 0 0 0 0 0 0 0 0 0 0 0 0 0 0 2 0 0 0 0 0 0 0 0 0 0 0 0 0 0 0 0 0 0\n",
            " 0 0 0 0 0 0 0 0 0 0 0 0 0 0 0 0 0 0 0 0 0 0 0 0 0 0 2 2 2 0 0 0 0 0 0 0 0\n",
            " 0 0 0 0 0 0 0 0 0 0 0 0 0 0 0 0 0 0 0 0 0 0]\n"
          ]
        }
      ]
    },
    {
      "cell_type": "markdown",
      "source": [
        "Find the accuracy for Hierarchical clustering"
      ],
      "metadata": {
        "id": "qf2elbfftu8x"
      }
    },
    {
      "cell_type": "code",
      "source": [
        "cm_hierar = confusion_matrix(y_val, (cluster.labels_))\n",
        "\n",
        "acc_cm_hierar = np.trace(cm_hierar) / np.sum(cm_hierar)\n",
        "print(acc_cm_hierar)\n",
        "ax = sns.heatmap(cm_hierar, annot=True, fmt=\"d\", cmap=\"Blues\")"
      ],
      "metadata": {
        "colab": {
          "base_uri": "https://localhost:8080/",
          "height": 286
        },
        "id": "QsPtP2GzYD2G",
        "outputId": "a8a37b20-3703-48cb-90f8-1e6ed4c5c976"
      },
      "execution_count": null,
      "outputs": [
        {
          "output_type": "stream",
          "name": "stdout",
          "text": [
            "0.20153061224489796\n"
          ]
        },
        {
          "output_type": "display_data",
          "data": {
            "text/plain": [
              "<Figure size 432x288 with 2 Axes>"
            ],
            "image/png": "[encoded data removed]"
          },
          "metadata": {}
        }
      ]
    },
    {
      "cell_type": "markdown",
      "source": [
        "Find **the best** accuracy for Hierarchical clustering\n",
        "\n"
      ],
      "metadata": {
        "id": "MLyXwRvOt-bY"
      }
    },
    {
      "cell_type": "code",
      "source": [
        "indexes = linear_assignment(_make_cost_m(cm_hierar))\n",
        "js = [e[1] for e in sorted(indexes, key=lambda x: x[0])]\n",
        "cm2_hierar = cm_hierar[:, js]\n",
        "\n",
        "ax = sns.heatmap(cm2_hierar, annot=True, fmt=\"d\", cmap=\"Blues\")"
      ],
      "metadata": {
        "colab": {
          "base_uri": "https://localhost:8080/",
          "height": 323
        },
        "id": "vfHXIes5ZLY2",
        "outputId": "687ceb99-5a71-482f-c147-52030d6e1833"
      },
      "execution_count": null,
      "outputs": [
        {
          "output_type": "stream",
          "name": "stderr",
          "text": [
            "/usr/local/lib/python3.7/dist-packages/sklearn/utils/linear_assignment_.py:128: FutureWarning: The linear_assignment function is deprecated in 0.21 and will be removed from 0.23. Use scipy.optimize.linear_sum_assignment instead.\n",
            "  FutureWarning)\n"
          ]
        },
        {
          "output_type": "display_data",
          "data": {
            "text/plain": [
              "<Figure size 432x288 with 2 Axes>"
            ],
            "image/png": "[encoded data removed]"
          },
          "metadata": {}
        }
      ]
    },
    {
      "cell_type": "code",
      "source": [
        "max_acc_hierar_ = np.trace(cm2_hierar) / np.sum(cm2_hierar)\n",
        "print(\"Max acc using Hierarchical clustering:\", 100* max_acc_hierar_,\"%\") "
      ],
      "metadata": {
        "colab": {
          "base_uri": "https://localhost:8080/"
        },
        "id": "yOvAao8pZfwf",
        "outputId": "fb6697bc-5ca6-476b-cb39-4b932449c0fa"
      },
      "execution_count": null,
      "outputs": [
        {
          "output_type": "stream",
          "name": "stdout",
          "text": [
            "Max acc using Hierarchical clustering: 45.40816326530612 %\n"
          ]
        }
      ]
    },
    {
      "cell_type": "markdown",
      "source": [
        "# **DBSCAN**"
      ],
      "metadata": {
        "id": "6fWz62ThPkQC"
      }
    },
    {
      "cell_type": "code",
      "source": [
        "from sklearn.cluster import DBSCAN\n",
        "\n",
        "clustering = DBSCAN(eps=0.3, min_samples=3).fit(X)\n",
        "\n",
        "\n",
        "#Set positive values for matching with the original ones\n",
        "for i in range(0,len(clustering.labels_)):\n",
        "  clustering.labels_[i] = abs(clustering.labels_[i])\n",
        "\n",
        "print(clustering.labels_)\n",
        "\n"
      ],
      "metadata": {
        "colab": {
          "base_uri": "https://localhost:8080/"
        },
        "id": "EJm6t7qFPjx6",
        "outputId": "7c2bb88e-9112-499f-93aa-41d57f6c4533"
      },
      "execution_count": null,
      "outputs": [
        {
          "output_type": "stream",
          "name": "stdout",
          "text": [
            "[1 1 1 1 1 1 1 1 1 1 1 1 1 1 1 1 1 1 0 1 1 1 1 1 1 1 1 1 1 0 1 1 1 1 1 1 1\n",
            " 1 1 1 1 1 1 1 1 1 1 1 1 0 1 1 1 1 1 1 1 1 1 1 1 1 1 1 1 1 1 1 1 1 1 1 1 1\n",
            " 1 1 1 1 1 1 1 1 1 1 1 1 1 1 1 1 1 1 1 1 1 1 1 1 1 1 1 1 1 1 1 1 1 1 1 1 1\n",
            " 1 1 1 1 1 1 1 1 1 1 1 1 1 1 1 1 1 1 1 1 1 1 1 1 1 1 1 1 1 1 1 1 1 1 1 1 1\n",
            " 1 1 1 1 1 1 1 1 1 1 1 1 1 1 1 1 1 1 1 1 1 1 1 1 1 1 1 1 1 1 1 1 1 1 1 1 1\n",
            " 1 1 1 1 1 1 1 1 1 1 1 1 1 1 1 1 1 1 1 1 1 1 1 1 1 1 1 1 1 1 1 1 1 1 1 1 1\n",
            " 1 1 1 1 1 1 1 1 1 1 1 1 1 1 1 1 1 1 1 1 1 1 1 1 1 1 1 1 1 1 1 1 1 1 1 1 1\n",
            " 1 1 1 1 1 1 1 1 1 1 1 1 1 1 1 1 1 1 1 1 1 1 1 1 1 1 1 1 1 1 1 1 1 1 1 1 1\n",
            " 1 1 1 1 1 1 1 1 1 1 1 1 1 1 1 1 1 1 1 1 1 1 1 1 1 1 1 1 1 1 1 1 1 1 1 1 1\n",
            " 1 1 1 1 1 1 1 1 1 1 1 1 1 1 1 1 1 1 1 1 1 1 1 1 1 1 1 1 1 1 1 1 1 1 1 1 1\n",
            " 1 1 1 1 1 1 1 1 1 1 1 1 1 1 1 1 1 1 1 1 1 1]\n"
          ]
        }
      ]
    },
    {
      "cell_type": "markdown",
      "source": [
        "Find the accuracy for DBSCAN"
      ],
      "metadata": {
        "id": "OXyYP1i4uY67"
      }
    },
    {
      "cell_type": "code",
      "source": [
        "cm_DBSCAN = confusion_matrix(y_val, (clustering.labels_))\n",
        "\n",
        "acc_cm_DBSCAN = np.trace(cm_DBSCAN) / np.sum(cm_DBSCAN)\n",
        "print(acc_cm_DBSCAN)\n",
        "ax = sns.heatmap(cm_DBSCAN, annot=True, fmt=\"d\", cmap=\"Blues\")"
      ],
      "metadata": {
        "colab": {
          "base_uri": "https://localhost:8080/",
          "height": 286
        },
        "id": "h--OMSXVhp1H",
        "outputId": "10ac70e9-2695-4209-ad36-c67a6aaf8340"
      },
      "execution_count": null,
      "outputs": [
        {
          "output_type": "stream",
          "name": "stdout",
          "text": [
            "0.17091836734693877\n"
          ]
        },
        {
          "output_type": "display_data",
          "data": {
            "text/plain": [
              "<Figure size 432x288 with 2 Axes>"
            ],
            "image/png": "[encoded data removed]"
          },
          "metadata": {}
        }
      ]
    },
    {
      "cell_type": "markdown",
      "source": [
        "Find **the best** accuracy for DBSCAN\n",
        "\n"
      ],
      "metadata": {
        "id": "VaJl36p8ukbl"
      }
    },
    {
      "cell_type": "code",
      "source": [
        "indexes = linear_assignment(_make_cost_m(cm_DBSCAN))\n",
        "js = [e[1] for e in sorted(indexes, key=lambda x: x[0])]\n",
        "cm2_DBSCAN = cm_DBSCAN[:, js]\n",
        "\n",
        "ax = sns.heatmap(cm2_DBSCAN, annot=True, fmt=\"d\", cmap=\"Blues\")"
      ],
      "metadata": {
        "colab": {
          "base_uri": "https://localhost:8080/",
          "height": 323
        },
        "id": "Vs-3fO4uia87",
        "outputId": "f121ec78-faac-4dcb-ebe1-ff7a472ade0e"
      },
      "execution_count": null,
      "outputs": [
        {
          "output_type": "stream",
          "name": "stderr",
          "text": [
            "/usr/local/lib/python3.7/dist-packages/sklearn/utils/linear_assignment_.py:128: FutureWarning: The linear_assignment function is deprecated in 0.21 and will be removed from 0.23. Use scipy.optimize.linear_sum_assignment instead.\n",
            "  FutureWarning)\n"
          ]
        },
        {
          "output_type": "display_data",
          "data": {
            "text/plain": [
              "<Figure size 432x288 with 2 Axes>"
            ],
            "image/png": "[encoded data removed]"
          },
          "metadata": {}
        }
      ]
    },
    {
      "cell_type": "code",
      "source": [
        "max_acc_DBSCAN = np.trace(cm2_DBSCAN) / np.sum(cm2_DBSCAN)\n",
        "print(\"Max acc using DBSCAN:\", 100* max_acc_DBSCAN,\"%\") "
      ],
      "metadata": {
        "colab": {
          "base_uri": "https://localhost:8080/"
        },
        "id": "UbJ0_c11im5d",
        "outputId": "172c4ae7-c0a9-469e-e5f5-c681c1825eee"
      },
      "execution_count": null,
      "outputs": [
        {
          "output_type": "stream",
          "name": "stdout",
          "text": [
            "Max acc using DBSCAN: 63.01020408163265 %\n"
          ]
        }
      ]
    },
    {
      "cell_type": "markdown",
      "source": [
        "Conclusion: \n",
        "\n",
        "The predictions weren't good compared to supervisory algorithms. Also, most of the Origin values have been labeled as 1, making the projection difficult. \n",
        "\n",
        "Labels:\n",
        "1: 245;\n",
        "3: 79;\n",
        "2: 68\n",
        "\n",
        "If y is available, maybe the best approach will be to use supervisory learning algorithms rather than unsupervised ones."
      ],
      "metadata": {
        "id": "LtQCXlsNefgb"
      }
    }
  ]
}